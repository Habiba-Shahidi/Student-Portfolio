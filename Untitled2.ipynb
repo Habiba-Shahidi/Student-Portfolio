{
  "nbformat": 4,
  "nbformat_minor": 0,
  "metadata": {
    "colab": {
      "name": "Untitled2.ipynb",
      "provenance": []
    },
    "kernelspec": {
      "name": "python3",
      "display_name": "Python 3"
    },
    "language_info": {
      "name": "python"
    }
  },
  "cells": [
    {
      "cell_type": "markdown",
      "source": [
        "Project 1 : Student Portfolio"
      ],
      "metadata": {
        "id": "jS2eVsiUoLqY"
      }
    },
    {
      "cell_type": "code",
      "execution_count": 5,
      "metadata": {
        "colab": {
          "base_uri": "https://localhost:8080/"
        },
        "id": "NkU2rUj8oJA9",
        "outputId": "5a10e049-82b5-4300-9c3e-836430ea5a0c"
      },
      "outputs": [
        {
          "output_type": "stream",
          "name": "stdout",
          "text": [
            "STUDENT PORTFOLIO\n",
            "Students Name : Zoya\n",
            "Standard : 10\n",
            "Division : B\n",
            "Roll no. : 20\n",
            "Marks in English : 89\n",
            "Marks in Hindi : 45\n",
            "Marks in Mathematics : 12\n",
            "Marks in Science : 34\n",
            "Marks in Social Science : 34\n",
            "Total marks obtained :  214.0\n",
            "Percentage :  42.8 %\n",
            "Grade C2\n"
          ]
        }
      ],
      "source": [
        "print (\"STUDENT PORTFOLIO\")\n",
        "stud_name=input(\"Students Name : \") \n",
        "Std=int(input(\"Standard : \"))\n",
        "div=input(\"Division : \")\n",
        "roll=int(input(\"Roll no. : \"))\n",
        "s1=float(input(\"Marks in English : \"))\n",
        "s2=float(input(\"Marks in Hindi : \"))\n",
        "s3=float(input(\"Marks in Mathematics : \"))\n",
        "s4=float(input(\"Marks in Science : \"))\n",
        "s5=float(input(\"Marks in Social Science : \"))\n",
        "t1=s1+s2+s3+s4+s5\n",
        "print(\"Total marks obtained : \", t1)\n",
        "avg=(t1/500)*100\n",
        "print(\"Percentage : \",avg, \"%\")\n",
        "if  avg >= 91:\n",
        "  print(\"Grade A1\")\n",
        "elif avg<91 and avg>=81:\n",
        "  print(\"Grade A2\")\n",
        "elif avg<81 and avg>=71:\n",
        "  print(\"Grade B1\")\n",
        "elif avg<71 and avg>=61:\n",
        "  print(\"Grade B2\")\n",
        "elif avg<61 and avg>=51:\n",
        "  print(\"Grade C1\")\n",
        "elif avg<51 and avg>=41:\n",
        "  print(\"Grade C2\")\n",
        "elif avg<41 and avg>=35:\n",
        "  print(\"Grade D1\")\n",
        "elif avg<35 and avg>=0:\n",
        "  print(\"Grade D2\")  "
      ]
    }
  ]
}